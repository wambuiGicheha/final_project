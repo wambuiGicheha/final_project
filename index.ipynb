{
 "cells": [
  {
   "cell_type": "code",
   "execution_count": 1,
   "metadata": {},
   "outputs": [],
   "source": [
    "import pandas as pd"
   ]
  },
  {
   "cell_type": "code",
   "execution_count": 3,
   "metadata": {},
   "outputs": [
    {
     "data": {
      "text/html": [
       "<div>\n",
       "<style scoped>\n",
       "    .dataframe tbody tr th:only-of-type {\n",
       "        vertical-align: middle;\n",
       "    }\n",
       "\n",
       "    .dataframe tbody tr th {\n",
       "        vertical-align: top;\n",
       "    }\n",
       "\n",
       "    .dataframe thead th {\n",
       "        text-align: right;\n",
       "    }\n",
       "</style>\n",
       "<table border=\"1\" class=\"dataframe\">\n",
       "  <thead>\n",
       "    <tr style=\"text-align: right;\">\n",
       "      <th></th>\n",
       "      <th>title</th>\n",
       "      <th>body</th>\n",
       "      <th>upvotes</th>\n",
       "      <th>created_utc</th>\n",
       "      <th>num_comments</th>\n",
       "      <th>label</th>\n",
       "    </tr>\n",
       "  </thead>\n",
       "  <tbody>\n",
       "    <tr>\n",
       "      <th>0</th>\n",
       "      <td>Day 18 of doing 50 push-ups</td>\n",
       "      <td>NaN</td>\n",
       "      <td>4.0</td>\n",
       "      <td>1.619357e+09</td>\n",
       "      <td>4.0</td>\n",
       "      <td>0.0</td>\n",
       "    </tr>\n",
       "    <tr>\n",
       "      <th>1</th>\n",
       "      <td>There isn’t a better feeling than finishing yo...</td>\n",
       "      <td>Then your teacher hits you with that “ Good jo...</td>\n",
       "      <td>7.0</td>\n",
       "      <td>1.554103e+09</td>\n",
       "      <td>NaN</td>\n",
       "      <td>0.0</td>\n",
       "    </tr>\n",
       "    <tr>\n",
       "      <th>2</th>\n",
       "      <td>LMAOOO I can only get this guy to talk to me i...</td>\n",
       "      <td>Yeahhh maybe not babe</td>\n",
       "      <td>4.0</td>\n",
       "      <td>1.649342e+09</td>\n",
       "      <td>12.0</td>\n",
       "      <td>0.0</td>\n",
       "    </tr>\n",
       "    <tr>\n",
       "      <th>3</th>\n",
       "      <td>This isn't going to work out</td>\n",
       "      <td>NaN</td>\n",
       "      <td>236.0</td>\n",
       "      <td>1.417630e+09</td>\n",
       "      <td>33.0</td>\n",
       "      <td>0.0</td>\n",
       "    </tr>\n",
       "    <tr>\n",
       "      <th>4</th>\n",
       "      <td>Am I the only guy who found it hurtful as a ch...</td>\n",
       "      <td>\\n\\nLike... why? How is that funny? How does ...</td>\n",
       "      <td>6.0</td>\n",
       "      <td>1.569280e+09</td>\n",
       "      <td>4.0</td>\n",
       "      <td>0.0</td>\n",
       "    </tr>\n",
       "  </tbody>\n",
       "</table>\n",
       "</div>"
      ],
      "text/plain": [
       "                                               title  \\\n",
       "0                        Day 18 of doing 50 push-ups   \n",
       "1  There isn’t a better feeling than finishing yo...   \n",
       "2  LMAOOO I can only get this guy to talk to me i...   \n",
       "3                       This isn't going to work out   \n",
       "4  Am I the only guy who found it hurtful as a ch...   \n",
       "\n",
       "                                                body  upvotes   created_utc  \\\n",
       "0                                                NaN      4.0  1.619357e+09   \n",
       "1  Then your teacher hits you with that “ Good jo...      7.0  1.554103e+09   \n",
       "2                              Yeahhh maybe not babe      4.0  1.649342e+09   \n",
       "3                                                NaN    236.0  1.417630e+09   \n",
       "4   \\n\\nLike... why? How is that funny? How does ...      6.0  1.569280e+09   \n",
       "\n",
       "   num_comments  label  \n",
       "0           4.0    0.0  \n",
       "1           NaN    0.0  \n",
       "2          12.0    0.0  \n",
       "3          33.0    0.0  \n",
       "4           4.0    0.0  "
      ]
     },
     "execution_count": 3,
     "metadata": {},
     "output_type": "execute_result"
    }
   ],
   "source": [
    "df = pd.read_csv(\"Data/reduced_reddit.csv\")\n",
    "df.head()"
   ]
  },
  {
   "cell_type": "code",
   "execution_count": 5,
   "metadata": {},
   "outputs": [
    {
     "name": "stdout",
     "output_type": "stream",
     "text": [
      "<class 'pandas.core.frame.DataFrame'>\n",
      "RangeIndex: 98826 entries, 0 to 98825\n",
      "Data columns (total 6 columns):\n",
      " #   Column        Non-Null Count  Dtype  \n",
      "---  ------        --------------  -----  \n",
      " 0   title         98826 non-null  object \n",
      " 1   body          80371 non-null  object \n",
      " 2   upvotes       98826 non-null  float64\n",
      " 3   created_utc   98826 non-null  float64\n",
      " 4   num_comments  94297 non-null  float64\n",
      " 5   label         98826 non-null  float64\n",
      "dtypes: float64(4), object(2)\n",
      "memory usage: 4.5+ MB\n"
     ]
    }
   ],
   "source": [
    "df.info()"
   ]
  },
  {
   "cell_type": "code",
   "execution_count": null,
   "metadata": {},
   "outputs": [],
   "source": []
  }
 ],
 "metadata": {
  "kernelspec": {
   "display_name": "Python 3",
   "language": "python",
   "name": "python3"
  },
  "language_info": {
   "codemirror_mode": {
    "name": "ipython",
    "version": 3
   },
   "file_extension": ".py",
   "mimetype": "text/x-python",
   "name": "python",
   "nbconvert_exporter": "python",
   "pygments_lexer": "ipython3",
   "version": "3.8.5"
  }
 },
 "nbformat": 4,
 "nbformat_minor": 4
}
